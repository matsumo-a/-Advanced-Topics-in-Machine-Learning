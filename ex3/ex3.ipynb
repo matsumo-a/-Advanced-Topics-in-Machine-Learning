{
 "cells": [
  {
   "cell_type": "code",
   "execution_count": 5,
   "metadata": {
    "collapsed": true
   },
   "outputs": [],
   "source": [
    "%matplotlib inline\n",
    "import numpy as np\n",
    "import matplotlib.pylab as plt"
   ]
  },
  {
   "cell_type": "code",
   "execution_count": 2,
   "metadata": {
    "collapsed": true
   },
   "outputs": [],
   "source": [
    "S = 0.1\n",
    "BETA = 9"
   ]
  },
  {
   "cell_type": "markdown",
   "metadata": {
    "collapsed": true
   },
   "source": [
    "関数を定義"
   ]
  },
  {
   "cell_type": "code",
   "execution_count": 3,
   "metadata": {
    "collapsed": true
   },
   "outputs": [],
   "source": [
    "def f(x):\n",
    "    return -100 * x * (x-0.5)**2 * (x-1)"
   ]
  },
  {
   "cell_type": "markdown",
   "metadata": {},
   "source": [
    "N個の適当なサンプル点を設定し、観測データ {$x_n, t_n$}を生成"
   ]
  },
  {
   "cell_type": "code",
   "execution_count": 8,
   "metadata": {},
   "outputs": [],
   "source": [
    "N=100\n",
    "xs = np.arange(0, 1.01, 0.02)\n",
    "ts = f(xs) + np.random.normal(loc=0.0, scale=0.1)"
   ]
  },
  {
   "cell_type": "markdown",
   "metadata": {},
   "source": [
    "既定関数$\\phi_m(x)$を定義する"
   ]
  },
  {
   "cell_type": "code",
   "execution_count": null,
   "metadata": {
    "collapsed": true
   },
   "outputs": [],
   "source": []
  },
  {
   "cell_type": "code",
   "execution_count": null,
   "metadata": {
    "collapsed": true
   },
   "outputs": [],
   "source": [
    "\n",
    "# Define Density function\n",
    "def ndist(x, mu=0., sigma=1.):\n",
    "    coef = 1./np.sqrt(2. * np.pi * sigma**2)\n",
    "    dnst = np.exp(-.5 * ((x-mu)/sigma)**2)\n",
    "    return coef * dnst\n",
    "\n",
    "tmu = 1\n",
    "tsigma = 1\n",
    "N = 100\n",
    "\n",
    "# Ideal Density curve\n",
    "xx = np.linspace(tmu-4*tsigma, tmu+4*tsigma)\n",
    "truecurve = ndist(xx, tmu, tsigma)\n",
    "\n",
    "#Generate N Sample data as xsamp\n",
    "xsamp = tmu + tsigma * np.random.randn(N)\n",
    "\n",
    "#Inference of parameters\n",
    "mu = 1./N*xsamp.sum()  # np.mean(xsamp)\n",
    "sigma = np.sqrt(1./N*((xsamp-mu)**2).sum())  # np.sqrt(np.mean((xsamp-mu)**2))\n",
    "estcurve = ndist(xx, mu, sigma)\n",
    "\n",
    "plt.hist(xsamp, normed=True, alpha=0.5)\n",
    "plt.plot(xx, truecurve, 'g-', linewidth=2)\n",
    "plt.plot(xx, estcurve, 'r-', linewidth=2)\n",
    "plt.show()"
   ]
  },
  {
   "cell_type": "markdown",
   "metadata": {},
   "source": [
    "乱数を発生させてからmu sigmaをM回繰り返して最尤推定して、\n",
    "mu, sigmaの期待値を評価する"
   ]
  },
  {
   "cell_type": "code",
   "execution_count": 2,
   "metadata": {},
   "outputs": [
    {
     "name": "stdout",
     "output_type": "stream",
     "text": [
      "mu:    0.996649\n",
      "sigma: 0.995148\n"
     ]
    },
    {
     "data": {
      "image/png": "[encoded data removed]",
      "text/plain": [
       "<matplotlib.figure.Figure at 0x7f0029a09a10>"
      ]
     },
     "metadata": {},
     "output_type": "display_data"
    }
   ],
   "source": [
    "%matplotlib inline\n",
    "import numpy as np\n",
    "import matplotlib,pylab as plt\n",
    "\n",
    "# Define Density function\n",
    "def ndist(x, mu=0., sigma=1.):\n",
    "    coef = 1./np.sqrt(2. * np.pi * sigma**2)\n",
    "    dnst = np.exp(-.5 * ((x-mu)/sigma)**2)\n",
    "    return coef * dnst\n",
    "\n",
    "tmu = 1\n",
    "tsigma = 1\n",
    "#N = 100\n",
    "\n",
    "# Ideal Density curve\n",
    "xx = np.linspace(tmu-4*tsigma, tmu+4*tsigma)\n",
    "truecurve = ndist(xx, tmu, tsigma)\n",
    "\n",
    "# Maximul Likelihood inference in M times\n",
    "M = 1000\n",
    "mu = np.array([])\n",
    "sigma = np.array([])\n",
    "for i in range(M):\n",
    "    #Generate N Sample data as xsamp\n",
    "    xsamp = tmu + tsigma * np.random.randn(N)\n",
    "\n",
    "    #Inference of parameters\n",
    "    mu = np.append(mu, 1./N*xsamp.sum())\n",
    "    sigma = np.append(sigma, np.sqrt(1./N*((xsamp-mu[i])**2).sum()))\n",
    "\n",
    "\n",
    "# Expected value\n",
    "mu_expection = np.mean(mu)  # mu.sum()/M\n",
    "sigma_expection = np.mean(sigma)  # sigma.sum()/M\n",
    "estcurve = ndist(xx, mu_expection, sigma_expection)\n",
    "\n",
    "print \"mu:    %f\" % mu_expection\n",
    "print \"sigma: %f\" % sigma_expection\n",
    "\n",
    "plt.plot(xx, truecurve, 'g-', linewidth=2)\n",
    "plt.plot(xx, estcurve, 'r-', linewidth=2)\n",
    "plt.show()"
   ]
  },
  {
   "cell_type": "code",
   "execution_count": 3,
   "metadata": {},
   "outputs": [
    {
     "name": "stderr",
     "output_type": "stream",
     "text": [
      "/usr/local/lib/python2.7/dist-packages/numpy/core/fromnumeric.py:2909: RuntimeWarning: Mean of empty slice.\n",
      "  out=out, **kwargs)\n",
      "/usr/local/lib/python2.7/dist-packages/numpy/core/_methods.py:80: RuntimeWarning: invalid value encountered in double_scalars\n",
      "  ret = ret.dtype.type(ret / rcount)\n"
     ]
    }
   ],
   "source": [
    "tmus = []\n",
    "tsigmas = []\n",
    "mus = []\n",
    "sigmas = []\n",
    "\n",
    "tmu = 1\n",
    "tsigma = 1\n",
    "# Ideal Density curve\n",
    "xrng = range(1000)\n",
    "for i in range(1000):\n",
    "    N = i\n",
    "    # Generate Sample data as xsamp\n",
    "    xsamp = tmu + tsigma * np.random.randn( N )\n",
    "    # Inference of parameters\n",
    "    mu = np.mean( xsamp )\n",
    "    sigma = np.sqrt( np.mean(xsamp**2) - mu**2 )\n",
    "    tmus.append(tmu)\n",
    "    tsigmas.append(tsigma)\n",
    "    mus.append(mu)\n",
    "    sigmas.append(sigma)"
   ]
  },
  {
   "cell_type": "code",
   "execution_count": 4,
   "metadata": {},
   "outputs": [
    {
     "data": {
      "image/png": "[encoded data removed]",
      "text/plain": [
       "<matplotlib.figure.Figure at 0x7f00276091d0>"
      ]
     },
     "metadata": {},
     "output_type": "display_data"
    }
   ],
   "source": [
    "plt.plot( xrng, mus, 'b-', linewidth=2 )\n",
    "plt.plot( xrng, tmus, 'r-', linewidth=2 )\n",
    "plt.grid(linestyle=':')\n",
    "plt.title(\"mu\")\n",
    "plt.show()"
   ]
  },
  {
   "cell_type": "code",
   "execution_count": 5,
   "metadata": {},
   "outputs": [
    {
     "data": {
      "image/png": "[encoded data removed]",
      "text/plain": [
       "<matplotlib.figure.Figure at 0x7f0027584190>"
      ]
     },
     "metadata": {},
     "output_type": "display_data"
    }
   ],
   "source": [
    "plt.plot( xrng, sigmas, 'b-', linewidth=2 )\n",
    "plt.plot( xrng, tsigmas, 'r-', linewidth=2 )\n",
    "plt.grid(linestyle=':')\n",
    "plt.title(\"sigma\")\n",
    "plt.show()"
   ]
  },
  {
   "cell_type": "code",
   "execution_count": 11,
   "metadata": {},
   "outputs": [
    {
     "data": {
      "text/plain": [
       "1"
      ]
     },
     "execution_count": 11,
     "metadata": {},
     "output_type": "execute_result"
    }
   ],
   "source": [
    "tmus[-2]"
   ]
  }
 ],
 "metadata": {
  "kernelspec": {
   "display_name": "Python 2",
   "language": "python",
   "name": "python2"
  },
  "language_info": {
   "codemirror_mode": {
    "name": "ipython",
    "version": 2
   },
   "file_extension": ".py",
   "mimetype": "text/x-python",
   "name": "python",
   "nbconvert_exporter": "python",
   "pygments_lexer": "ipython2",
   "version": "2.7.6"
  }
 },
 "nbformat": 4,
 "nbformat_minor": 2
}
